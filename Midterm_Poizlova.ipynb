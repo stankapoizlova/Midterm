{
 "cells": [
  {
   "cell_type": "markdown",
   "metadata": {},
   "source": [
    "Midterm exam"
   ]
  },
  {
   "cell_type": "code",
   "execution_count": 1,
   "metadata": {},
   "outputs": [],
   "source": [
    "import json\n",
    "import time\n",
    "import requests\n",
    "import pandas as pd\n",
    "import numpy as np\n",
    "from bs4 import BeautifulSoup"
   ]
  },
  {
   "cell_type": "code",
   "execution_count": 2,
   "metadata": {},
   "outputs": [],
   "source": [
    "login_payload = '{\"cuni\":\"48669601\"}'"
   ]
  },
  {
   "cell_type": "code",
   "execution_count": 3,
   "metadata": {},
   "outputs": [],
   "source": [
    "r = requests.post('https://ies-midterm.soulution.rocks/login', login_payload)"
   ]
  },
  {
   "cell_type": "code",
   "execution_count": 4,
   "metadata": {},
   "outputs": [
    {
     "data": {
      "text/plain": [
       "'{\"data\": {\"personal_code\": \"261710f1\", \"dataset_ids\": [\"11f651d1ee\", \"e2beb850b2\", \"0a42bff0a1\", \"24f88cb68c\"]}, \"message\": \"Hello, Poizlov\\\\u00e1 Stanislava! Good luck with the midterm. GET your data set from /data/file_id endpoint; use the codes you received in the data response as the file_id parameter! Print the personal code in your notebook.\"}'"
      ]
     },
     "execution_count": 4,
     "metadata": {},
     "output_type": "execute_result"
    }
   ],
   "source": [
    "r.text"
   ]
  },
  {
   "cell_type": "code",
   "execution_count": 5,
   "metadata": {},
   "outputs": [],
   "source": [
    "d = json.loads(r.text)"
   ]
  },
  {
   "cell_type": "code",
   "execution_count": 6,
   "metadata": {},
   "outputs": [
    {
     "data": {
      "text/plain": [
       "{'data': {'personal_code': '261710f1',\n",
       "  'dataset_ids': ['11f651d1ee', 'e2beb850b2', '0a42bff0a1', '24f88cb68c']},\n",
       " 'message': 'Hello, Poizlová Stanislava! Good luck with the midterm. GET your data set from /data/file_id endpoint; use the codes you received in the data response as the file_id parameter! Print the personal code in your notebook.'}"
      ]
     },
     "execution_count": 6,
     "metadata": {},
     "output_type": "execute_result"
    }
   ],
   "source": [
    "d"
   ]
  },
  {
   "cell_type": "code",
   "execution_count": 7,
   "metadata": {},
   "outputs": [
    {
     "data": {
      "text/plain": [
       "{'personal_code': '261710f1',\n",
       " 'dataset_ids': ['11f651d1ee', 'e2beb850b2', '0a42bff0a1', '24f88cb68c']}"
      ]
     },
     "execution_count": 7,
     "metadata": {},
     "output_type": "execute_result"
    }
   ],
   "source": [
    "d['data']"
   ]
  },
  {
   "cell_type": "code",
   "execution_count": 8,
   "metadata": {},
   "outputs": [
    {
     "data": {
      "text/plain": [
       "'261710f1'"
      ]
     },
     "execution_count": 8,
     "metadata": {},
     "output_type": "execute_result"
    }
   ],
   "source": [
    "d['data']['personal_code']"
   ]
  },
  {
   "cell_type": "code",
   "execution_count": 9,
   "metadata": {},
   "outputs": [
    {
     "data": {
      "text/plain": [
       "['11f651d1ee', 'e2beb850b2', '0a42bff0a1', '24f88cb68c']"
      ]
     },
     "execution_count": 9,
     "metadata": {},
     "output_type": "execute_result"
    }
   ],
   "source": [
    "# get my codes\n",
    "codes=d['data']['dataset_ids']\n",
    "codes"
   ]
  },
  {
   "cell_type": "code",
   "execution_count": 10,
   "metadata": {},
   "outputs": [
    {
     "name": "stdout",
     "output_type": "stream",
     "text": [
      "<Response [503]>\n",
      "<Response [503]>\n",
      "<Response [200]>\n",
      "<Response [200]>\n",
      "<Response [200]>\n",
      "<Response [200]>\n"
     ]
    }
   ],
   "source": [
    "collect_data={} #collect data got from server\n",
    "for data_code in codes:\n",
    "    r = requests.get(f'https://ies-midterm.soulution.rocks/data/{data_code}')\n",
    "    print(r)\n",
    "    while r.status_code != 200: #if not successful yet, repeat until it is successful, when done go to for loop and do with other code\n",
    "        r = requests.get(f'https://ies-midterm.soulution.rocks/data/{data_code}')\n",
    "        time.sleep(0.5) #wait so we are ncie to server\n",
    "        print(r)\n",
    "    d=r.json()['data'] #transform data for nice form\n",
    "    \n",
    "    company_name = d['company'] \n",
    "    data = pd.DataFrame(d['data']).set_index('Date')\n",
    "    data.index = pd.to_datetime(data.index)\n",
    "    collect_data[company_name] = data #collect data to collector"
   ]
  },
  {
   "cell_type": "code",
   "execution_count": 11,
   "metadata": {},
   "outputs": [],
   "source": [
    "df = pd.concat(collect_data) #join all data frames"
   ]
  },
  {
   "cell_type": "code",
   "execution_count": 12,
   "metadata": {},
   "outputs": [],
   "source": [
    "df=df.apply(pd.to_numeric) #it is object change to numeric"
   ]
  },
  {
   "cell_type": "code",
   "execution_count": 13,
   "metadata": {},
   "outputs": [
    {
     "data": {
      "text/html": [
       "<div>\n",
       "<style scoped>\n",
       "    .dataframe tbody tr th:only-of-type {\n",
       "        vertical-align: middle;\n",
       "    }\n",
       "\n",
       "    .dataframe tbody tr th {\n",
       "        vertical-align: top;\n",
       "    }\n",
       "\n",
       "    .dataframe thead th {\n",
       "        text-align: right;\n",
       "    }\n",
       "</style>\n",
       "<table border=\"1\" class=\"dataframe\">\n",
       "  <thead>\n",
       "    <tr style=\"text-align: right;\">\n",
       "      <th></th>\n",
       "      <th></th>\n",
       "      <th>Open</th>\n",
       "      <th>High</th>\n",
       "      <th>Low</th>\n",
       "      <th>Close</th>\n",
       "      <th>Adj.Close</th>\n",
       "      <th>Volume</th>\n",
       "    </tr>\n",
       "    <tr>\n",
       "      <th></th>\n",
       "      <th>Date</th>\n",
       "      <th></th>\n",
       "      <th></th>\n",
       "      <th></th>\n",
       "      <th></th>\n",
       "      <th></th>\n",
       "      <th></th>\n",
       "    </tr>\n",
       "  </thead>\n",
       "  <tbody>\n",
       "    <tr>\n",
       "      <th rowspan=\"5\" valign=\"top\">MNG</th>\n",
       "      <th>2019-01-02</th>\n",
       "      <td>NaN</td>\n",
       "      <td>NaN</td>\n",
       "      <td>NaN</td>\n",
       "      <td>NaN</td>\n",
       "      <td>NaN</td>\n",
       "      <td>NaN</td>\n",
       "    </tr>\n",
       "    <tr>\n",
       "      <th>2019-01-03</th>\n",
       "      <td>NaN</td>\n",
       "      <td>NaN</td>\n",
       "      <td>NaN</td>\n",
       "      <td>NaN</td>\n",
       "      <td>NaN</td>\n",
       "      <td>NaN</td>\n",
       "    </tr>\n",
       "    <tr>\n",
       "      <th>2019-01-04</th>\n",
       "      <td>NaN</td>\n",
       "      <td>NaN</td>\n",
       "      <td>NaN</td>\n",
       "      <td>NaN</td>\n",
       "      <td>NaN</td>\n",
       "      <td>NaN</td>\n",
       "    </tr>\n",
       "    <tr>\n",
       "      <th>2019-01-07</th>\n",
       "      <td>NaN</td>\n",
       "      <td>NaN</td>\n",
       "      <td>NaN</td>\n",
       "      <td>NaN</td>\n",
       "      <td>NaN</td>\n",
       "      <td>NaN</td>\n",
       "    </tr>\n",
       "    <tr>\n",
       "      <th>2019-01-08</th>\n",
       "      <td>NaN</td>\n",
       "      <td>NaN</td>\n",
       "      <td>NaN</td>\n",
       "      <td>NaN</td>\n",
       "      <td>NaN</td>\n",
       "      <td>NaN</td>\n",
       "    </tr>\n",
       "    <tr>\n",
       "      <th>...</th>\n",
       "      <th>...</th>\n",
       "      <td>...</td>\n",
       "      <td>...</td>\n",
       "      <td>...</td>\n",
       "      <td>...</td>\n",
       "      <td>...</td>\n",
       "      <td>...</td>\n",
       "    </tr>\n",
       "    <tr>\n",
       "      <th rowspan=\"5\" valign=\"top\">PSN</th>\n",
       "      <th>2020-11-17</th>\n",
       "      <td>NaN</td>\n",
       "      <td>NaN</td>\n",
       "      <td>NaN</td>\n",
       "      <td>NaN</td>\n",
       "      <td>NaN</td>\n",
       "      <td>NaN</td>\n",
       "    </tr>\n",
       "    <tr>\n",
       "      <th>2020-11-18</th>\n",
       "      <td>NaN</td>\n",
       "      <td>NaN</td>\n",
       "      <td>NaN</td>\n",
       "      <td>NaN</td>\n",
       "      <td>NaN</td>\n",
       "      <td>NaN</td>\n",
       "    </tr>\n",
       "    <tr>\n",
       "      <th>2020-11-19</th>\n",
       "      <td>NaN</td>\n",
       "      <td>NaN</td>\n",
       "      <td>NaN</td>\n",
       "      <td>NaN</td>\n",
       "      <td>NaN</td>\n",
       "      <td>NaN</td>\n",
       "    </tr>\n",
       "    <tr>\n",
       "      <th>2020-11-20</th>\n",
       "      <td>NaN</td>\n",
       "      <td>NaN</td>\n",
       "      <td>NaN</td>\n",
       "      <td>NaN</td>\n",
       "      <td>NaN</td>\n",
       "      <td>NaN</td>\n",
       "    </tr>\n",
       "    <tr>\n",
       "      <th>NaT</th>\n",
       "      <td>NaN</td>\n",
       "      <td>NaN</td>\n",
       "      <td>NaN</td>\n",
       "      <td>NaN</td>\n",
       "      <td>NaN</td>\n",
       "      <td>NaN</td>\n",
       "    </tr>\n",
       "  </tbody>\n",
       "</table>\n",
       "<p>1355 rows × 6 columns</p>\n",
       "</div>"
      ],
      "text/plain": [
       "                Open  High  Low  Close  Adj.Close  Volume\n",
       "    Date                                                 \n",
       "MNG 2019-01-02   NaN   NaN  NaN    NaN        NaN     NaN\n",
       "    2019-01-03   NaN   NaN  NaN    NaN        NaN     NaN\n",
       "    2019-01-04   NaN   NaN  NaN    NaN        NaN     NaN\n",
       "    2019-01-07   NaN   NaN  NaN    NaN        NaN     NaN\n",
       "    2019-01-08   NaN   NaN  NaN    NaN        NaN     NaN\n",
       "...              ...   ...  ...    ...        ...     ...\n",
       "PSN 2020-11-17   NaN   NaN  NaN    NaN        NaN     NaN\n",
       "    2020-11-18   NaN   NaN  NaN    NaN        NaN     NaN\n",
       "    2020-11-19   NaN   NaN  NaN    NaN        NaN     NaN\n",
       "    2020-11-20   NaN   NaN  NaN    NaN        NaN     NaN\n",
       "    NaT          NaN   NaN  NaN    NaN        NaN     NaN\n",
       "\n",
       "[1355 rows x 6 columns]"
      ]
     },
     "execution_count": 13,
     "metadata": {},
     "output_type": "execute_result"
    }
   ],
   "source": [
    "df[df.isna()==True] #are there na?"
   ]
  },
  {
   "cell_type": "code",
   "execution_count": 14,
   "metadata": {},
   "outputs": [],
   "source": [
    "df.dropna(how='all',inplace = True) #delete na"
   ]
  },
  {
   "cell_type": "markdown",
   "metadata": {},
   "source": [
    "#Part2"
   ]
  },
  {
   "cell_type": "code",
   "execution_count": 15,
   "metadata": {},
   "outputs": [
    {
     "data": {
      "text/plain": [
       "Timestamp('2019-05-08 00:00:00')"
      ]
     },
     "execution_count": 15,
     "metadata": {},
     "output_type": "execute_result"
    }
   ],
   "source": [
    "#yes, can be seen in table above\n",
    "data.index.min()   "
   ]
  },
  {
   "cell_type": "code",
   "execution_count": 16,
   "metadata": {},
   "outputs": [
    {
     "data": {
      "text/plain": [
       "Timestamp('2020-11-20 00:00:00')"
      ]
     },
     "execution_count": 16,
     "metadata": {},
     "output_type": "execute_result"
    }
   ],
   "source": [
    "data.index.max()"
   ]
  },
  {
   "cell_type": "code",
   "execution_count": 17,
   "metadata": {},
   "outputs": [
    {
     "data": {
      "text/html": [
       "<div>\n",
       "<style scoped>\n",
       "    .dataframe tbody tr th:only-of-type {\n",
       "        vertical-align: middle;\n",
       "    }\n",
       "\n",
       "    .dataframe tbody tr th {\n",
       "        vertical-align: top;\n",
       "    }\n",
       "\n",
       "    .dataframe thead th {\n",
       "        text-align: right;\n",
       "    }\n",
       "</style>\n",
       "<table border=\"1\" class=\"dataframe\">\n",
       "  <thead>\n",
       "    <tr style=\"text-align: right;\">\n",
       "      <th></th>\n",
       "      <th></th>\n",
       "      <th>Open</th>\n",
       "      <th>High</th>\n",
       "      <th>Low</th>\n",
       "      <th>Close</th>\n",
       "      <th>Adj.Close</th>\n",
       "      <th>Volume</th>\n",
       "    </tr>\n",
       "    <tr>\n",
       "      <th>Company</th>\n",
       "      <th>Date</th>\n",
       "      <th></th>\n",
       "      <th></th>\n",
       "      <th></th>\n",
       "      <th></th>\n",
       "      <th></th>\n",
       "      <th></th>\n",
       "    </tr>\n",
       "  </thead>\n",
       "  <tbody>\n",
       "    <tr>\n",
       "      <th rowspan=\"5\" valign=\"top\">MNG</th>\n",
       "      <th>2019-01-02</th>\n",
       "      <td>35.630001</td>\n",
       "      <td>36.810001</td>\n",
       "      <td>34.709999</td>\n",
       "      <td>36.660000</td>\n",
       "      <td>36.660000</td>\n",
       "      <td>0.0</td>\n",
       "    </tr>\n",
       "    <tr>\n",
       "      <th>2019-01-03</th>\n",
       "      <td>36.720001</td>\n",
       "      <td>37.220001</td>\n",
       "      <td>36.130001</td>\n",
       "      <td>36.660000</td>\n",
       "      <td>36.660000</td>\n",
       "      <td>0.0</td>\n",
       "    </tr>\n",
       "    <tr>\n",
       "      <th>2019-01-04</th>\n",
       "      <td>36.660000</td>\n",
       "      <td>38.029999</td>\n",
       "      <td>36.660000</td>\n",
       "      <td>37.970001</td>\n",
       "      <td>37.970001</td>\n",
       "      <td>0.0</td>\n",
       "    </tr>\n",
       "    <tr>\n",
       "      <th>2019-01-07</th>\n",
       "      <td>38.150002</td>\n",
       "      <td>39.560001</td>\n",
       "      <td>37.939999</td>\n",
       "      <td>39.560001</td>\n",
       "      <td>39.560001</td>\n",
       "      <td>0.0</td>\n",
       "    </tr>\n",
       "    <tr>\n",
       "      <th>2019-01-08</th>\n",
       "      <td>39.560001</td>\n",
       "      <td>40.520000</td>\n",
       "      <td>39.560001</td>\n",
       "      <td>40.259998</td>\n",
       "      <td>40.259998</td>\n",
       "      <td>0.0</td>\n",
       "    </tr>\n",
       "    <tr>\n",
       "      <th>...</th>\n",
       "      <th>...</th>\n",
       "      <td>...</td>\n",
       "      <td>...</td>\n",
       "      <td>...</td>\n",
       "      <td>...</td>\n",
       "      <td>...</td>\n",
       "      <td>...</td>\n",
       "    </tr>\n",
       "    <tr>\n",
       "      <th rowspan=\"5\" valign=\"top\">PSN</th>\n",
       "      <th>2020-11-16</th>\n",
       "      <td>33.680000</td>\n",
       "      <td>34.169998</td>\n",
       "      <td>32.990002</td>\n",
       "      <td>33.840000</td>\n",
       "      <td>33.840000</td>\n",
       "      <td>436800.0</td>\n",
       "    </tr>\n",
       "    <tr>\n",
       "      <th>2020-11-17</th>\n",
       "      <td>33.680000</td>\n",
       "      <td>34.020000</td>\n",
       "      <td>33.049999</td>\n",
       "      <td>33.680000</td>\n",
       "      <td>33.680000</td>\n",
       "      <td>270000.0</td>\n",
       "    </tr>\n",
       "    <tr>\n",
       "      <th>2020-11-18</th>\n",
       "      <td>33.910000</td>\n",
       "      <td>33.950001</td>\n",
       "      <td>32.650002</td>\n",
       "      <td>32.790001</td>\n",
       "      <td>32.790001</td>\n",
       "      <td>282600.0</td>\n",
       "    </tr>\n",
       "    <tr>\n",
       "      <th>2020-11-19</th>\n",
       "      <td>32.610001</td>\n",
       "      <td>32.830002</td>\n",
       "      <td>31.860001</td>\n",
       "      <td>32.220001</td>\n",
       "      <td>32.220001</td>\n",
       "      <td>661600.0</td>\n",
       "    </tr>\n",
       "    <tr>\n",
       "      <th>2020-11-20</th>\n",
       "      <td>32.070000</td>\n",
       "      <td>32.147999</td>\n",
       "      <td>31.575001</td>\n",
       "      <td>31.750000</td>\n",
       "      <td>31.750000</td>\n",
       "      <td>347700.0</td>\n",
       "    </tr>\n",
       "  </tbody>\n",
       "</table>\n",
       "<p>1351 rows × 6 columns</p>\n",
       "</div>"
      ],
      "text/plain": [
       "                         Open       High        Low      Close  Adj.Close  \\\n",
       "Company Date                                                                \n",
       "MNG     2019-01-02  35.630001  36.810001  34.709999  36.660000  36.660000   \n",
       "        2019-01-03  36.720001  37.220001  36.130001  36.660000  36.660000   \n",
       "        2019-01-04  36.660000  38.029999  36.660000  37.970001  37.970001   \n",
       "        2019-01-07  38.150002  39.560001  37.939999  39.560001  39.560001   \n",
       "        2019-01-08  39.560001  40.520000  39.560001  40.259998  40.259998   \n",
       "...                       ...        ...        ...        ...        ...   \n",
       "PSN     2020-11-16  33.680000  34.169998  32.990002  33.840000  33.840000   \n",
       "        2020-11-17  33.680000  34.020000  33.049999  33.680000  33.680000   \n",
       "        2020-11-18  33.910000  33.950001  32.650002  32.790001  32.790001   \n",
       "        2020-11-19  32.610001  32.830002  31.860001  32.220001  32.220001   \n",
       "        2020-11-20  32.070000  32.147999  31.575001  31.750000  31.750000   \n",
       "\n",
       "                      Volume  \n",
       "Company Date                  \n",
       "MNG     2019-01-02       0.0  \n",
       "        2019-01-03       0.0  \n",
       "        2019-01-04       0.0  \n",
       "        2019-01-07       0.0  \n",
       "        2019-01-08       0.0  \n",
       "...                      ...  \n",
       "PSN     2020-11-16  436800.0  \n",
       "        2020-11-17  270000.0  \n",
       "        2020-11-18  282600.0  \n",
       "        2020-11-19  661600.0  \n",
       "        2020-11-20  347700.0  \n",
       "\n",
       "[1351 rows x 6 columns]"
      ]
     },
     "execution_count": 17,
     "metadata": {},
     "output_type": "execute_result"
    }
   ],
   "source": [
    "df.index.names = ['Company','Date'] #change index names\n",
    "df"
   ]
  },
  {
   "cell_type": "code",
   "execution_count": 18,
   "metadata": {},
   "outputs": [
    {
     "data": {
      "text/plain": [
       "Company\n",
       "MNG     45.320000\n",
       "IAG      5.200000\n",
       "SGRO     0.210000\n",
       "PSN     45.029999\n",
       "Name: Adj.Close, dtype: float64"
      ]
     },
     "execution_count": 18,
     "metadata": {},
     "output_type": "execute_result"
    }
   ],
   "source": [
    "#the highest number of shares traded \n",
    "df.groupby('Company')['Adj.Close'].max()"
   ]
  },
  {
   "cell_type": "code",
   "execution_count": 19,
   "metadata": {},
   "outputs": [
    {
     "data": {
      "text/plain": [
       "Company\n",
       "MNG     14.930000\n",
       "IAG      1.880000\n",
       "SGRO     0.155000\n",
       "PSN     25.309999\n",
       "Name: Adj.Close, dtype: float64"
      ]
     },
     "execution_count": 19,
     "metadata": {},
     "output_type": "execute_result"
    }
   ],
   "source": [
    "#the lowest number of shares traded \n",
    "df.groupby('Company')['Adj.Close'].min()"
   ]
  },
  {
   "cell_type": "code",
   "execution_count": 20,
   "metadata": {},
   "outputs": [
    {
     "data": {
      "text/plain": [
       "Company\n",
       "MNG      (MNG, 2019-01-02 00:00:00)\n",
       "IAG      (IAG, 2020-02-24 00:00:00)\n",
       "SGRO    (SGRO, 2019-03-06 00:00:00)\n",
       "PSN      (PSN, 2019-05-08 00:00:00)\n",
       "Name: Volume, dtype: object"
      ]
     },
     "execution_count": 20,
     "metadata": {},
     "output_type": "execute_result"
    }
   ],
   "source": [
    "#day, the highest number of shares traded overall\n",
    "df.groupby('Company')['Volume'].idxmax()"
   ]
  },
  {
   "cell_type": "code",
   "execution_count": 21,
   "metadata": {},
   "outputs": [
    {
     "data": {
      "text/plain": [
       "('SGRO', Timestamp('2019-03-06 00:00:00'))"
      ]
     },
     "execution_count": 21,
     "metadata": {},
     "output_type": "execute_result"
    }
   ],
   "source": [
    "#company\n",
    "df.groupby('Company')['Volume'].idxmax().max()"
   ]
  },
  {
   "cell_type": "code",
   "execution_count": 22,
   "metadata": {},
   "outputs": [
    {
     "data": {
      "text/plain": [
       "Company\n",
       "MNG     0.000000e+00\n",
       "IAG     2.633248e+09\n",
       "SGRO    1.300000e+03\n",
       "PSN     1.686474e+08\n",
       "Name: Volume, dtype: float64"
      ]
     },
     "execution_count": 22,
     "metadata": {},
     "output_type": "execute_result"
    }
   ],
   "source": [
    "#the total of shares traded \n",
    "df.groupby('Company')['Volume'].sum() "
   ]
  },
  {
   "cell_type": "code",
   "execution_count": 23,
   "metadata": {},
   "outputs": [
    {
     "data": {
      "text/plain": [
       "<matplotlib.axes._subplots.AxesSubplot at 0x1fdece9e4c0>"
      ]
     },
     "execution_count": 23,
     "metadata": {},
     "output_type": "execute_result"
    },
    {
     "data": {
      "image/png": "[encoded data removed]",
      "text/plain": [
       "<Figure size 432x288 with 1 Axes>"
      ]
     },
     "metadata": {
      "needs_background": "light"
     },
     "output_type": "display_data"
    }
   ],
   "source": [
    "#plot\n",
    "df.loc['IAG',:]['Adj.Close'].plot()"
   ]
  },
  {
   "cell_type": "code",
   "execution_count": 24,
   "metadata": {},
   "outputs": [
    {
     "data": {
      "text/plain": [
       "Company\n",
       "MNG     45.689999\n",
       "IAG      5.350000\n",
       "SGRO     0.210000\n",
       "PSN     45.400002\n",
       "Name: High, dtype: float64"
      ]
     },
     "execution_count": 24,
     "metadata": {},
     "output_type": "execute_result"
    }
   ],
   "source": [
    "#highest gain and loss\n",
    "df.groupby('Company')['High'].max()"
   ]
  },
  {
   "cell_type": "code",
   "execution_count": 25,
   "metadata": {},
   "outputs": [
    {
     "data": {
      "text/plain": [
       "Company\n",
       "MNG     44.939999\n",
       "IAG      5.100000\n",
       "SGRO     0.210000\n",
       "PSN     44.630001\n",
       "Name: Low, dtype: float64"
      ]
     },
     "execution_count": 25,
     "metadata": {},
     "output_type": "execute_result"
    }
   ],
   "source": [
    "df.groupby('Company')['Low'].max() \n"
   ]
  },
  {
   "cell_type": "code",
   "execution_count": 26,
   "metadata": {},
   "outputs": [],
   "source": [
    "#plot the log returns for the company that has the largest difference between opening and closing price"
   ]
  },
  {
   "cell_type": "code",
   "execution_count": null,
   "metadata": {},
   "outputs": [],
   "source": []
  },
  {
   "cell_type": "code",
   "execution_count": null,
   "metadata": {},
   "outputs": [],
   "source": []
  }
 ],
 "metadata": {
  "kernelspec": {
   "display_name": "Python 3",
   "language": "python",
   "name": "python3"
  },
  "language_info": {
   "codemirror_mode": {
    "name": "ipython",
    "version": 3
   },
   "file_extension": ".py",
   "mimetype": "text/x-python",
   "name": "python",
   "nbconvert_exporter": "python",
   "pygments_lexer": "ipython3",
   "version": "3.8.3"
  }
 },
 "nbformat": 4,
 "nbformat_minor": 4
}
